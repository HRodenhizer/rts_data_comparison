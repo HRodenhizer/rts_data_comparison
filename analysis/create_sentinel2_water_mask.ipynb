{
 "cells": [
  {
   "cell_type": "code",
   "execution_count": 1,
   "id": "1245819c",
   "metadata": {},
   "outputs": [],
   "source": [
    "import ee\n",
    "ee.Initialize()"
   ]
  },
  {
   "cell_type": "code",
   "execution_count": 2,
   "id": "6fb29ba5",
   "metadata": {},
   "outputs": [],
   "source": [
    "import geemap\n",
    "from pprint import pprint\n",
    "import numpy as np\n",
    "import pandas as pd\n",
    "import geopandas as gpd\n",
    "import xarray as xr\n",
    "import rioxarray as rxr\n",
    "import shapely as shp\n",
    "import os\n",
    "import re\n",
    "import string\n",
    "import math"
   ]
  },
  {
   "cell_type": "code",
   "execution_count": 10,
   "id": "cf239514",
   "metadata": {},
   "outputs": [],
   "source": [
    "def geometryToEE(img_geometry):\n",
    "    \n",
    "    # format geometry\n",
    "#     img_geometry = gpd.GeoDataFrame(geometry = img_geometry)\n",
    "    print(img_geometry)\n",
    "    img_geometry = img_geometry.reset_index(drop = True)\n",
    "    img_geometry = [[[x, y] for x, y in list(img_geometry.geometry.exterior[0].coords)]]\n",
    "    \n",
    "    # convert geometry to ee.Geometry\n",
    "    img_geometry_ee = ee.Geometry({\n",
    "        'type': 'Polygon',\n",
    "        'coordinates': img_geometry\n",
    "    })\n",
    "    \n",
    "    return img_geometry_ee"
   ]
  },
  {
   "cell_type": "code",
   "execution_count": 35,
   "id": "06725328",
   "metadata": {},
   "outputs": [
    {
     "name": "stdout",
     "output_type": "stream",
     "text": [
      "minx    68.026573\n",
      "miny    70.781306\n",
      "maxx    68.042567\n",
      "maxy    70.787515\n",
      "Name: 0, dtype: float64\n",
      "{'type': 'Polygon', 'coordinates': [[[68.02657262962772, 68.04256671230145], [70.78130569327571, 68.04256671230145], [70.78130569327571, 70.7875145426991], [68.02657262962772, 70.7875145426991], [68.02657262962772, 68.04256671230145]]]}\n"
     ]
    },
    {
     "data": {
      "text/html": [
       "<div>\n",
       "<style scoped>\n",
       "    .dataframe tbody tr th:only-of-type {\n",
       "        vertical-align: middle;\n",
       "    }\n",
       "\n",
       "    .dataframe tbody tr th {\n",
       "        vertical-align: top;\n",
       "    }\n",
       "\n",
       "    .dataframe thead th {\n",
       "        text-align: right;\n",
       "    }\n",
       "</style>\n",
       "<table border=\"1\" class=\"dataframe\">\n",
       "  <thead>\n",
       "    <tr style=\"text-align: right;\">\n",
       "      <th></th>\n",
       "      <th>id</th>\n",
       "      <th>imagery</th>\n",
       "      <th>geometry</th>\n",
       "    </tr>\n",
       "  </thead>\n",
       "  <tbody>\n",
       "    <tr>\n",
       "      <th>0</th>\n",
       "      <td>00000000000000000002</td>\n",
       "      <td>WorldView</td>\n",
       "      <td>POLYGON ((68.03283 70.78751, 68.04257 70.78615...</td>\n",
       "    </tr>\n",
       "    <tr>\n",
       "      <th>1</th>\n",
       "      <td>00000000000000000006</td>\n",
       "      <td>WorldView</td>\n",
       "      <td>POLYGON ((67.84626 70.71843, 67.85593 70.71709...</td>\n",
       "    </tr>\n",
       "    <tr>\n",
       "      <th>2</th>\n",
       "      <td>00000000000000000007</td>\n",
       "      <td>WorldView</td>\n",
       "      <td>POLYGON ((67.84569 70.71748, 67.85536 70.71613...</td>\n",
       "    </tr>\n",
       "    <tr>\n",
       "      <th>3</th>\n",
       "      <td>00000000000000000008</td>\n",
       "      <td>WorldView</td>\n",
       "      <td>POLYGON ((67.91335 70.62325, 67.92301 70.62190...</td>\n",
       "    </tr>\n",
       "    <tr>\n",
       "      <th>4</th>\n",
       "      <td>0000000000000000000a</td>\n",
       "      <td>WorldView</td>\n",
       "      <td>POLYGON ((67.91373 70.62254, 67.92344 70.62117...</td>\n",
       "    </tr>\n",
       "    <tr>\n",
       "      <th>...</th>\n",
       "      <td>...</td>\n",
       "      <td>...</td>\n",
       "      <td>...</td>\n",
       "    </tr>\n",
       "    <tr>\n",
       "      <th>184</th>\n",
       "      <td>0000000000000000007f</td>\n",
       "      <td>Sentinel-2</td>\n",
       "      <td>POLYGON ((-133.94877 69.05770, -133.95407 69.0...</td>\n",
       "    </tr>\n",
       "    <tr>\n",
       "      <th>185</th>\n",
       "      <td>00000000000000000081</td>\n",
       "      <td>Sentinel-2</td>\n",
       "      <td>POLYGON ((-138.86547 69.56958, -138.87145 69.5...</td>\n",
       "    </tr>\n",
       "    <tr>\n",
       "      <th>186</th>\n",
       "      <td>00000000000000000084</td>\n",
       "      <td>Sentinel-2</td>\n",
       "      <td>POLYGON ((-139.16281 69.54018, -139.16889 69.5...</td>\n",
       "    </tr>\n",
       "    <tr>\n",
       "      <th>187</th>\n",
       "      <td>00000000000000000086</td>\n",
       "      <td>Sentinel-2</td>\n",
       "      <td>POLYGON ((-139.21393 69.55217, -139.22001 69.5...</td>\n",
       "    </tr>\n",
       "    <tr>\n",
       "      <th>188</th>\n",
       "      <td>00000000000000000087</td>\n",
       "      <td>Sentinel-2</td>\n",
       "      <td>POLYGON ((-139.21449 69.55020, -139.22057 69.5...</td>\n",
       "    </tr>\n",
       "  </tbody>\n",
       "</table>\n",
       "<p>189 rows × 3 columns</p>\n",
       "</div>"
      ],
      "text/plain": [
       "                       id     imagery  \\\n",
       "0    00000000000000000002   WorldView   \n",
       "1    00000000000000000006   WorldView   \n",
       "2    00000000000000000007   WorldView   \n",
       "3    00000000000000000008   WorldView   \n",
       "4    0000000000000000000a   WorldView   \n",
       "..                    ...         ...   \n",
       "184  0000000000000000007f  Sentinel-2   \n",
       "185  00000000000000000081  Sentinel-2   \n",
       "186  00000000000000000084  Sentinel-2   \n",
       "187  00000000000000000086  Sentinel-2   \n",
       "188  00000000000000000087  Sentinel-2   \n",
       "\n",
       "                                              geometry  \n",
       "0    POLYGON ((68.03283 70.78751, 68.04257 70.78615...  \n",
       "1    POLYGON ((67.84626 70.71843, 67.85593 70.71709...  \n",
       "2    POLYGON ((67.84569 70.71748, 67.85536 70.71613...  \n",
       "3    POLYGON ((67.91335 70.62325, 67.92301 70.62190...  \n",
       "4    POLYGON ((67.91373 70.62254, 67.92344 70.62117...  \n",
       "..                                                 ...  \n",
       "184  POLYGON ((-133.94877 69.05770, -133.95407 69.0...  \n",
       "185  POLYGON ((-138.86547 69.56958, -138.87145 69.5...  \n",
       "186  POLYGON ((-139.16281 69.54018, -139.16889 69.5...  \n",
       "187  POLYGON ((-139.21393 69.55217, -139.22001 69.5...  \n",
       "188  POLYGON ((-139.21449 69.55020, -139.22057 69.5...  \n",
       "\n",
       "[189 rows x 3 columns]"
      ]
     },
     "execution_count": 35,
     "metadata": {},
     "output_type": "execute_result"
    }
   ],
   "source": [
    "# Read in RTS test tiles\n",
    "tiles = gpd.read_file('../data/rts_polygons/all_tiles.shp')\n",
    "tiles = tiles.to_crs(4326)\n",
    "\n",
    "aoi = tiles.geometry.bounds.iloc[0]\n",
    "print(aoi)\n",
    "aoi = ee.Geometry({\n",
    "        'type': 'Polygon',\n",
    "        'coordinates': [\n",
    "            [\n",
    "                [aoi[0], aoi[2]],\n",
    "                [aoi[1], aoi[2]],\n",
    "                [aoi[1], aoi[3]],\n",
    "                [aoi[0], aoi[3]],\n",
    "                [aoi[0], aoi[2]]\n",
    "                        ]\n",
    "        ]\n",
    "    })\n",
    "print(aoi.getInfo())\n",
    "\n",
    "tiles"
   ]
  },
  {
   "cell_type": "code",
   "execution_count": 30,
   "id": "03189c1f",
   "metadata": {},
   "outputs": [],
   "source": [
    "# Prep Map\n",
    "Map = geemap.Map()\n",
    "Map.centerObject(aoi);"
   ]
  },
  {
   "cell_type": "code",
   "execution_count": 31,
   "id": "c76cca1b",
   "metadata": {},
   "outputs": [
    {
     "name": "stdout",
     "output_type": "stream",
     "text": [
      "{'bands': [{'crs': 'EPSG:4326',\n",
      "            'crs_transform': [1, 0, 0, 0, 1, 0],\n",
      "            'data_type': {'max': 1,\n",
      "                          'min': 0,\n",
      "                          'precision': 'double',\n",
      "                          'type': 'PixelType'},\n",
      "            'id': 'SCL'}],\n",
      " 'type': 'Image'}\n"
     ]
    }
   ],
   "source": [
    "# Get Sentinel-2 Mosaic to Align Planet Data\n",
    "MAX_CLOUD_PROBABILITY = 50\n",
    "# geometry = ee.Geometry({\n",
    "#     'type': 'Polygon',\n",
    "#     'coordinates': [[\n",
    "#         [66, 66],\n",
    "#         [66, 73.5],\n",
    "#         [85, 73.5],\n",
    "#         [85, 66],\n",
    "#         [66, 66]\n",
    "#         ]]\n",
    "# })\n",
    "\n",
    "s2 = (\n",
    "    ee.ImageCollection('COPERNICUS/S2_SR_HARMONIZED')\n",
    "#     .filterBounds(geometry)\n",
    "    .filterDate('2018-06-15', '2019-08-31')\n",
    "    .filter(ee.Filter.dayOfYear(182, 243))\n",
    ");\n",
    "\n",
    "s2_clouds = (\n",
    "    ee.ImageCollection('COPERNICUS/S2_CLOUD_PROBABILITY')\n",
    "#     .filterBounds(geometry)\n",
    "    .filterDate('2018-06-15', '2019-08-31')\n",
    "    .filter(ee.Filter.dayOfYear(182, 243))\n",
    ");\n",
    "\n",
    "def s2_maskcloud(image):\n",
    "    \n",
    "    clouds = ee.Image(image.get('cloud_mask')).select('probability')\n",
    "    \n",
    "    isNotCloud = clouds.lt(MAX_CLOUD_PROBABILITY)\n",
    "    \n",
    "    return image.updateMask(isNotCloud)\n",
    "\n",
    "# Join S2 SR with cloud probability dataset to add cloud mask.\n",
    "s2_with_clouds = ee.Join.saveFirst('cloud_mask').apply(    \n",
    "  primary=s2,\n",
    "  secondary=s2_clouds,\n",
    "  condition=ee.Filter.equals(leftField='system:index', rightField='system:index'))\n",
    "\n",
    "s2_masked = ee.ImageCollection(s2_with_clouds).map(s2_maskcloud)\n",
    "\n",
    "# s2_masked_north = s2_masked.filter(ee.Filter.dayOfYear(196, 243))\n",
    "\n",
    "def s2_water_mask(image):\n",
    "    return image.select('SCL').eq(6)\n",
    "\n",
    "s2_water = (\n",
    "    s2_masked.map(s2_water_mask)\n",
    "    .median()\n",
    ");\n",
    "\n",
    "s2_mosaic = (\n",
    "    s2_masked\n",
    "    .select(['B2', 'B3', 'B4', 'B8'])\n",
    "    .median());\n",
    "\n",
    "# s2_mosaic_north = (\n",
    "#     s2_masked_north\n",
    "#     .select(['B2', 'B3', 'B4', 'B8'])\n",
    "#     .median());\n",
    "\n",
    "pprint(s2_water.getInfo())"
   ]
  },
  {
   "cell_type": "code",
   "execution_count": 32,
   "id": "b4c421f1",
   "metadata": {},
   "outputs": [],
   "source": [
    "Map.addLayer(s2_mosaic.clip(aoi), \n",
    "             {'bands':['B4', 'B3', 'B2'], 'min':0, 'max':1000}, \n",
    "             'S2 All Years')\n",
    "Map.addLayer(s2_water.clip(aoi), \n",
    "             {'min':0, 'max':1}, \n",
    "             'S2 Water')\n"
   ]
  },
  {
   "cell_type": "code",
   "execution_count": 33,
   "id": "461fb911",
   "metadata": {},
   "outputs": [
    {
     "data": {
      "application/vnd.jupyter.widget-view+json": {
       "model_id": "834c4e232abf47d2b5177cfc8236e514",
       "version_major": 2,
       "version_minor": 0
      },
      "text/plain": [
       "Map(center=[69.41761287493608, 69.40393916145172], controls=(WidgetControl(options=['position', 'transparent_b…"
      ]
     },
     "execution_count": 33,
     "metadata": {},
     "output_type": "execute_result"
    }
   ],
   "source": [
    "Map"
   ]
  },
  {
   "cell_type": "code",
   "execution_count": 44,
   "id": "b00ef89d",
   "metadata": {},
   "outputs": [],
   "source": [
    "for index, row in tiles.iterrows():\n",
    "    polygon_id = row.id\n",
    "    name = 'Sentinel-2_water_mask_' + str(row.id)\n",
    "    img_geometry = [[[x, y] for x, y in list(row.geometry.exterior.coords)]]\n",
    "    crs = 'EPSG:' + str(3413)\n",
    "   \n",
    "    # Export 2018-2019 growing season Sentinel-2 Mosaic to Drive\n",
    "    task = ee.batch.Export.image.toDrive(\n",
    "        image = s2_water,\n",
    "        description = name,\n",
    "        folder = 'Earth Engine Exports',\n",
    "        crs = crs,\n",
    "        scale = 10,\n",
    "        maxPixels = 1e13,\n",
    "        region = img_geometry,\n",
    "        fileFormat = 'GeoTIFF'\n",
    "    )\n",
    "    task.start()"
   ]
  }
 ],
 "metadata": {
  "kernelspec": {
   "display_name": "Python 3 (ipykernel)",
   "language": "python",
   "name": "python3"
  },
  "language_info": {
   "codemirror_mode": {
    "name": "ipython",
    "version": 3
   },
   "file_extension": ".py",
   "mimetype": "text/x-python",
   "name": "python",
   "nbconvert_exporter": "python",
   "pygments_lexer": "ipython3",
   "version": "3.8.13"
  },
  "varInspector": {
   "cols": {
    "lenName": 16,
    "lenType": 16,
    "lenVar": 40
   },
   "kernels_config": {
    "python": {
     "delete_cmd_postfix": "",
     "delete_cmd_prefix": "del ",
     "library": "var_list.py",
     "varRefreshCmd": "print(var_dic_list())"
    },
    "r": {
     "delete_cmd_postfix": ") ",
     "delete_cmd_prefix": "rm(",
     "library": "var_list.r",
     "varRefreshCmd": "cat(var_dic_list()) "
    }
   },
   "types_to_exclude": [
    "module",
    "function",
    "builtin_function_or_method",
    "instance",
    "_Feature"
   ],
   "window_display": false
  }
 },
 "nbformat": 4,
 "nbformat_minor": 5
}
